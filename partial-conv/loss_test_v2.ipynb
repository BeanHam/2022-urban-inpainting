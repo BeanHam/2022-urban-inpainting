{
 "cells": [
  {
   "cell_type": "code",
   "execution_count": 1,
   "id": "3fbc7eaf",
   "metadata": {},
   "outputs": [],
   "source": [
    "import numpy as np\n",
    "import matplotlib.pyplot as plt"
   ]
  },
  {
   "cell_type": "code",
   "execution_count": 2,
   "id": "123fb97e",
   "metadata": {},
   "outputs": [],
   "source": [
    "def loss(x0, x1, beta, lamda, offset=1):\n",
    "    delta_x = x1-x0\n",
    "    l1 = delta_x\n",
    "    l2 = (delta_x/(np.min((x0,x1),axis=0) + offset))**lamda\n",
    "    l1 = l1*beta\n",
    "    l2 = l2*(1-beta)\n",
    "    return l1, l2, l1+l2"
   ]
  },
  {
   "cell_type": "markdown",
   "id": "a17c511c",
   "metadata": {},
   "source": [
    "Relative differences:\n",
    "\n",
    "$$\\ell_i = \\beta * ||y_i-x_i||_1 + (1-\\beta)* \\bigg[\\frac{|x_i - y_i|}{min(x_i, y_i) + 1}\\bigg]^\\lambda$$\n",
    "\n",
    "$$0 \\le \\beta \\le 1$$\n",
    "\n",
    "$$\\lambda>1$$\n",
    "\n",
    "Problem: cost more when underestimating than overestimating. (5,4), (5,6)\n",
    "\n",
    "bike share: have extra bikes might be better than having an shortage.\n",
    "\n",
    "ethics: too many drivers "
   ]
  },
  {
   "cell_type": "markdown",
   "id": "07eec6ac",
   "metadata": {},
   "source": [
    "penalizing the models for predicting everything in the fewer-demanded area to be all 0's."
   ]
  },
  {
   "cell_type": "markdown",
   "id": "868a47f7",
   "metadata": {},
   "source": [
    "(x, y, y-x)\n",
    "\n",
    "(1, 2, 1)\n",
    "\n",
    "(2, 3, 1)\n",
    "\n",
    "(3, 4, 1)\n",
    "\n",
    "(4, 5, 1)"
   ]
  },
  {
   "cell_type": "markdown",
   "id": "fc765c3e",
   "metadata": {},
   "source": [
    "---"
   ]
  },
  {
   "cell_type": "markdown",
   "id": "fe280e3a",
   "metadata": {},
   "source": [
    "(2, 10, 8)\n",
    "\n",
    "(50, 58, 8)\n",
    "\n",
    "(58, 50, 8)"
   ]
  },
  {
   "cell_type": "markdown",
   "id": "a4b0603f",
   "metadata": {},
   "source": [
    "### test 1"
   ]
  },
  {
   "cell_type": "code",
   "execution_count": 37,
   "id": "8a4fd5ed",
   "metadata": {},
   "outputs": [],
   "source": [
    "x0_1 = np.array(list(range(1,500)))\n",
    "x1_1 = np.array(list(range(1,500)))+1"
   ]
  },
  {
   "cell_type": "code",
   "execution_count": 46,
   "id": "9d9fa8a7",
   "metadata": {},
   "outputs": [
    {
     "data": {
      "image/png": "[encoded data removed]",
      "text/plain": [
       "<Figure size 432x288 with 1 Axes>"
      ]
     },
     "metadata": {
      "needs_background": "light"
     },
     "output_type": "display_data"
    }
   ],
   "source": [
    "l1_1, marginal_loss_1, total_1 = loss(x0_1, x1_1, 0.5, 2)\n",
    "plt.plot(marginal_loss_1, label='l2')\n",
    "pass"
   ]
  },
  {
   "cell_type": "markdown",
   "id": "f5f9615d",
   "metadata": {},
   "source": [
    "(0,1)\n",
    "(0,2)\n",
    "(0,4)\n",
    "(0,8)"
   ]
  },
  {
   "cell_type": "markdown",
   "id": "445463e1",
   "metadata": {},
   "source": [
    "### test 2"
   ]
  },
  {
   "cell_type": "code",
   "execution_count": 3,
   "id": "1f14ef99",
   "metadata": {},
   "outputs": [],
   "source": [
    "np.random.seed(1)\n",
    "x0 = np.zeros(500)\n",
    "x1 = np.linspace(0,50,500)"
   ]
  },
  {
   "cell_type": "code",
   "execution_count": 36,
   "id": "befb8452",
   "metadata": {},
   "outputs": [
    {
     "data": {
      "image/png": "[encoded data removed]",
      "text/plain": [
       "<Figure size 432x288 with 1 Axes>"
      ]
     },
     "metadata": {
      "needs_background": "light"
     },
     "output_type": "display_data"
    }
   ],
   "source": [
    "l1, marginal_loss, total = loss(x0, x1, 0.99, 2)\n",
    "plt.plot(marginal_loss)\n",
    "pass"
   ]
  }
 ],
 "metadata": {
  "kernelspec": {
   "display_name": "Python 3",
   "language": "python",
   "name": "python3"
  },
  "language_info": {
   "codemirror_mode": {
    "name": "ipython",
    "version": 3
   },
   "file_extension": ".py",
   "mimetype": "text/x-python",
   "name": "python",
   "nbconvert_exporter": "python",
   "pygments_lexer": "ipython3",
   "version": "3.8.8"
  }
 },
 "nbformat": 4,
 "nbformat_minor": 5
}
