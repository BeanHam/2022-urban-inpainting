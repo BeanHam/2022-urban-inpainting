{
 "cells": [
  {
   "cell_type": "code",
   "execution_count": 1,
   "id": "d34cb2de",
   "metadata": {},
   "outputs": [],
   "source": [
    "import numpy as np\n",
    "import torch\n",
    "import torch.nn as nn\n",
    "import matplotlib.pyplot as plt\n",
    "from torchvision import transforms\n",
    "from net import *\n",
    "from utils import *\n",
    "from loss import *"
   ]
  },
  {
   "cell_type": "code",
   "execution_count": 2,
   "id": "258a3c8c",
   "metadata": {},
   "outputs": [
    {
     "data": {
      "text/plain": [
       "<All keys matched successfully>"
      ]
     },
     "execution_count": 2,
     "metadata": {},
     "output_type": "execute_result"
    }
   ],
   "source": [
    "## parameters\n",
    "img_root = \"D:/nyc_taxi/data-3d\"\n",
    "mask_root = \"D:/nyc_taxi/data-3d\"\n",
    "mask_type = 'biased'\n",
    "image_size = 64\n",
    "chunk_size = 2\n",
    "test_imgs = np.load(img_root+'/test.npy')\n",
    "test_masks_biased = np.load(mask_root+'/test_biased_mask.npy')\n",
    "dataset_test = taxi_data(test_imgs, test_masks_biased, image_size, chunk_size)\n",
    "\n",
    "## load models\n",
    "model_l1 = PConvUNet(input_channels=1)\n",
    "model_l1.load_state_dict(torch.load('model_states/biased_l1_2'))\n",
    "model_relative = PConvUNet(input_channels=1)\n",
    "model_relative.load_state_dict(torch.load('model_states/biased_relative_2'))"
   ]
  },
  {
   "cell_type": "markdown",
   "id": "acd6dcd8",
   "metadata": {},
   "source": [
    "### Visualization"
   ]
  },
  {
   "cell_type": "code",
   "execution_count": 40,
   "id": "a266eff8",
   "metadata": {
    "scrolled": false
   },
   "outputs": [
    {
     "data": {
      "image/png": "[encoded data removed]",
      "text/plain": [
       "<Figure size 1440x1440 with 5 Axes>"
      ]
     },
     "metadata": {
      "needs_background": "light"
     },
     "output_type": "display_data"
    }
   ],
   "source": [
    "## param\n",
    "color = 'Spectral'\n",
    "all_time_max = 1428\n",
    "\n",
    "## get test images\n",
    "#indices = np.random.randint(chunk_size-1, len(dataset_test),num)\n",
    "#indices = [1442, 1631, 220, 44, 1574]\n",
    "#mask, gt = zip(*[dataset_test[i] for i in indices])\n",
    "index = np.random.randint(2,len(dataset_test),1)[0]\n",
    "mask, gt = dataset_test[index]\n",
    "mask = mask.reshape(1,1,2,64,64)\n",
    "gt = gt.reshape(1,1,2,64,64)\n",
    "image = mask*gt\n",
    "with torch.no_grad():\n",
    "    output_l1, _ = model_l1(gt, mask)\n",
    "    output_relative, _ = model_relative(gt, mask)\n",
    "output_comp_l1 = mask * gt + (1 - mask) * output_l1\n",
    "output_comp_relative = mask * gt + (1 - mask) * output_relative\n",
    "\n",
    "## scale back + log transformation\n",
    "gt = torch.log(gt*all_time_max+1) \n",
    "image = torch.log(image*all_time_max+1)\n",
    "output_comp_l1 = torch.log(output_comp_l1*all_time_max+1)\n",
    "output_comp_relative = torch.log(output_comp_relative*all_time_max+1)\n",
    "\n",
    "## the last layer\n",
    "gt = gt[:,:,-1,:,:]\n",
    "mask = mask[:,:,-1,:,:]\n",
    "image = image[:,:,-1,:,:]\n",
    "output_comp_l1 = output_comp_l1[:,:,-1,:,:]\n",
    "output_comp_relative = output_comp_relative[:,:,-1,:,:]\n",
    "\n",
    "plt.figure(figsize=(20,20))\n",
    "## ground truth\n",
    "plt.subplot(1, 5, 1)\n",
    "plt.xticks([])\n",
    "plt.yticks([])\n",
    "plt.ylabel('dsds',fontsize=18)\n",
    "plt.title('Ground Truth',fontsize=18)\n",
    "plt.imshow(gt[0][0],cmap=color)\n",
    "## mask\n",
    "plt.subplot(1, 5, 2)\n",
    "plt.axis('off')\n",
    "plt.title('Mask',fontsize=18)\n",
    "plt.imshow(mask[0][0], cmap=color)\n",
    "## masked ground truth\n",
    "plt.subplot(1, 5, 3)\n",
    "plt.axis('off')\n",
    "plt.title('Masked Ground Truth',fontsize=18)\n",
    "plt.imshow(image[0][0],cmap=color)\n",
    "## l1 loss\n",
    "plt.subplot(1, 5, 4)\n",
    "plt.axis('off')\n",
    "plt.title('L1 Loss',fontsize=18)\n",
    "plt.imshow(output_comp_l1[0][0],cmap=color)\n",
    "## l1 + relative loss\n",
    "plt.subplot(1, 5, 5)\n",
    "plt.axis('off')\n",
    "plt.title('L1 + Relative Loss',fontsize=18)\n",
    "plt.imshow(output_comp_relative[0][0],cmap=color)\n",
    "plt.subplots_adjust(left=0.1,\n",
    "                    bottom=0.1, \n",
    "                    right=0.9, \n",
    "                    top=0.9, \n",
    "                    wspace=0.05,\n",
    "                    hspace=0.5)\n",
    "#plt.savefig(f'../visualizations/{ylabel}_{str(index)}.jpg',bbox_inches='tight', dpi=600)"
   ]
  },
  {
   "cell_type": "markdown",
   "id": "4c32b209",
   "metadata": {},
   "source": [
    "index = 472"
   ]
  },
  {
   "cell_type": "markdown",
   "id": "ea7495c5",
   "metadata": {},
   "source": [
    "---"
   ]
  },
  {
   "cell_type": "markdown",
   "id": "a2fe78fe",
   "metadata": {},
   "source": [
    "### Time Validity Check"
   ]
  },
  {
   "cell_type": "code",
   "execution_count": 45,
   "id": "8a4a2a11",
   "metadata": {},
   "outputs": [],
   "source": [
    "## param\n",
    "num = 6\n",
    "COLOR = 'Spectral'\n",
    "all_time_max = 1428\n",
    "time = 48\n",
    "\n",
    "## get test images\n",
    "indices = list(range(time,time+24))\n",
    "_, gt = zip(*[dataset_test[i] for i in indices])\n",
    "gt = torch.stack(gt)\n",
    "mask, _ = dataset_test[1417]\n",
    "mask = np.repeat(mask.reshape(1,1,2,64,64),24,axis=0)\n",
    "image = mask*gt\n",
    "with torch.no_grad():\n",
    "    output_l1, _ = model_l1(gt, mask)\n",
    "    output_relative, _ = model_relative(gt, mask)\n",
    "output_comp_l1 = mask * gt + (1 - mask) * output_l1\n",
    "output_comp_relative = mask * gt + (1 - mask) * output_relative\n",
    "\n",
    "## scale back + log transformation\n",
    "gt = torch.log(gt*all_time_max+1) \n",
    "image = torch.log(image*all_time_max+1)\n",
    "output_comp_l1 = torch.log(output_comp_l1*all_time_max+1)\n",
    "output_comp_relative = torch.log(output_comp_relative*all_time_max+1)\n",
    "\n",
    "## the last layer\n",
    "gt = gt[:,:,-1,:,:]\n",
    "mask = mask[:,:,-1,:,:]\n",
    "image = image[:,:,-1,:,:]\n",
    "output_comp_l1 = output_comp_l1[:,:,-1,:,:]\n",
    "output_comp_relative = output_comp_relative[:,:,-1,:,:]"
   ]
  },
  {
   "cell_type": "code",
   "execution_count": 46,
   "id": "e07bc14e",
   "metadata": {},
   "outputs": [
    {
     "data": {
      "image/png": "[encoded data removed]",
      "text/plain": [
       "<Figure size 1152x1152 with 3 Axes>"
      ]
     },
     "metadata": {
      "needs_background": "light"
     },
     "output_type": "display_data"
    }
   ],
   "source": [
    "plt.figure(figsize=(16,16))\n",
    "plt.subplot(1, 3, 1)\n",
    "plt.axis('off')\n",
    "plt.imshow(gt[0][0],cmap=COLOR)\n",
    "plt.subplot(1, 3, 2)\n",
    "plt.axis('off')\n",
    "plt.imshow(mask[0][0], cmap=COLOR)\n",
    "plt.subplot(1, 3, 3)\n",
    "plt.axis('off')\n",
    "plt.imshow(image[0][0], cmap=COLOR)\n",
    "pass"
   ]
  },
  {
   "cell_type": "code",
   "execution_count": 47,
   "id": "b4077bd0",
   "metadata": {},
   "outputs": [],
   "source": [
    "gt_time_series = []\n",
    "pred_time_series_l1 = []\n",
    "pred_time_series_relative = []\n",
    "for i in range(len(gt)):\n",
    "    gt_time_series.append(torch.mean(gt[i][0][mask[i][0] == 0]).item())\n",
    "    pred_time_series_l1.append(torch.mean(output_comp_l1[i][0][mask[i][0] == 0]).item())\n",
    "    pred_time_series_relative.append(torch.mean(output_comp_relative[i][0][mask[i][0] == 0]).item())"
   ]
  },
  {
   "cell_type": "code",
   "execution_count": 48,
   "id": "f572e7e4",
   "metadata": {},
   "outputs": [
    {
     "data": {
      "image/png": "[encoded data removed]",
      "text/plain": [
       "<Figure size 432x288 with 1 Axes>"
      ]
     },
     "metadata": {
      "needs_background": "light"
     },
     "output_type": "display_data"
    }
   ],
   "source": [
    "plt.plot(gt_time_series, label='Ground Truth')\n",
    "plt.plot(pred_time_series_l1, label='Without Relative Loss')\n",
    "plt.plot(pred_time_series_relative, label='With Relative Loss')\n",
    "plt.legend()\n",
    "plt.xlabel('Time of The Day', size=16)\n",
    "plt.ylabel('Avg. of Masked Values', size=16)\n",
    "pass"
   ]
  },
  {
   "cell_type": "markdown",
   "id": "bd680579",
   "metadata": {},
   "source": [
    "### Statistical Testing"
   ]
  },
  {
   "cell_type": "code",
   "execution_count": 33,
   "id": "cb418082",
   "metadata": {},
   "outputs": [],
   "source": [
    "parameters = {\n",
    "    \"img_root\": \"D:/nyc_taxi/data-3d\",\n",
    "    \"mask_root\": \"D:/nyc_taxi/data-3d\",\n",
    "    \"learning_rate_m\": 0.001,\n",
    "    \"learning_rate_c\": 0.001,\n",
    "    \"learning_rate_step\": 1000,\n",
    "    \"max_iter\": 20000,\n",
    "    \"eval_iter\": 200,\n",
    "    \"batch_size\": 16,\n",
    "    \"chunk_size\": 1,\n",
    "    \"image_size\": 64,\n",
    "    \"valid_loss_weight\": 1,\n",
    "    \"hole_loss_weights\": [0.1,0.5,1,2,3,4,5,6,7,8,9,10],\n",
    "    \"relative_loss_weights\": [0.1,0.5,1,2,3,4,5,6,7,8,9,10],\n",
    "    \"prev_hour_loss_weights\": [0.1,0.5,1,2,3,4,5,6,7,8,9,10],\n",
    "    \"epsilon\": 1e-6,\n",
    "    \"all_time_max\": 1428,\n",
    "    \"mask_types\": [\"biased\"],\n",
    "    \"loss_types\": [\"1d\", \"3d\", \"relative\"],\n",
    "    'device':torch.device(\"cuda\") if torch.cuda.is_available() else torch.device(\"cpu\")\n",
    "}"
   ]
  },
  {
   "cell_type": "code",
   "execution_count": 41,
   "id": "9ac5e602",
   "metadata": {},
   "outputs": [],
   "source": [
    "def quantitative_eval(model1, model2, dataset, parameters):\n",
    "    \n",
    "    ## parameters\n",
    "    device = parameters['device']\n",
    "    batch_size = parameters['batch_size']\n",
    "    chunk_size = parameters['chunk_size']\n",
    "    all_time_max = parameters['all_time_max']\n",
    "    all_results = []\n",
    "    \n",
    "    ## metrics\n",
    "    model1_hole_l1_output = []\n",
    "    model1_hole_mse_output = []\n",
    "    model1_ssim_output_5 = []\n",
    "    model1_ssim_output_7 = []\n",
    "    model1_ssim_output_9 = []\n",
    "    model1_psnr_output = []\n",
    "    \n",
    "    model2_hole_l1_output = []\n",
    "    model2_hole_mse_output = []\n",
    "    model2_ssim_output_5 = []\n",
    "    model2_ssim_output_7 = []\n",
    "    model2_ssim_output_9 = []\n",
    "    model2_psnr_output = []\n",
    "    \n",
    "    ## iterate through\n",
    "    permutation = torch.randperm(len(dataset))\n",
    "    permutation = permutation[permutation>=chunk_size-1]\n",
    "    for i in range(0, len(permutation), batch_size):\n",
    "        indices = permutation[i:i+batch_size]\n",
    "        mask, gt = zip(*[dataset[i] for i in indices])\n",
    "        mask = torch.stack(mask).to(device)\n",
    "        gt = torch.stack(gt).to(device)\n",
    "        \n",
    "        with torch.no_grad():\n",
    "            model1_output, _ = model1(gt, mask)\n",
    "            model2_output, _ = model2(gt, mask)\n",
    "        model1_output_comp = mask * gt + (1 - mask) * model1_output\n",
    "        model2_output_comp = mask * gt + (1 - mask) * model2_output\n",
    "        \n",
    "        ## scale back\n",
    "        gt = (gt*all_time_max).cpu().detach().numpy()\n",
    "        mask = mask.cpu().detach().numpy()        \n",
    "        model1_output_comp = (model1_output_comp*all_time_max).cpu().detach().numpy()\n",
    "        model2_output_comp = (model2_output_comp*all_time_max).cpu().detach().numpy()     \n",
    "        \n",
    "        ## take the last layer\n",
    "        gt = gt[:,:,-1,:,:]\n",
    "        mask = mask[:,:,-1,:,:]\n",
    "        model1_output_comp = model1_output_comp[:,:,-1,:,:]\n",
    "        model2_output_comp = model2_output_comp[:,:,-1,:,:]\n",
    "        \n",
    "        ## calculate ssim & partial mse\n",
    "        for j in range(len(model1_output)):\n",
    "            ## single image & output\n",
    "            gt_single = gt[j][0]\n",
    "            mask_single = mask[j][0]\n",
    "            model1_output_comp_single = model1_output_comp[j][0]\n",
    "            model2_output_comp_single = model2_output_comp[j][0]\n",
    "            \n",
    "            ## calculate metrics\n",
    "            ## overall image\n",
    "            model1_ssim_output_5.append(structural_similarity(model1_output_comp_single, gt_single, win_size=5))\n",
    "            model1_ssim_output_7.append(structural_similarity(model1_output_comp_single, gt_single, win_size=7))\n",
    "            model1_ssim_output_9.append(structural_similarity(model1_output_comp_single, gt_single, win_size=9))\n",
    "            model1_psnr_output.append(peak_signal_noise_ratio(model1_output_comp_single, gt_single, data_range=all_time_max))\n",
    "\n",
    "            model2_ssim_output_5.append(structural_similarity(model2_output_comp_single, gt_single, win_size=5))\n",
    "            model2_ssim_output_7.append(structural_similarity(model2_output_comp_single, gt_single, win_size=7))\n",
    "            model2_ssim_output_9.append(structural_similarity(model2_output_comp_single, gt_single, win_size=9))\n",
    "            model2_psnr_output.append(peak_signal_noise_ratio(model2_output_comp_single, gt_single, data_range=all_time_max))            \n",
    "            \n",
    "            ## hole regions\n",
    "            model1_output_comp_single_hole = model1_output_comp_single[np.where(mask_single == 0)]\n",
    "            model2_output_comp_single_hole = model2_output_comp_single[np.where(mask_single == 0)]\n",
    "            gt_single_hole = gt_single[np.where(mask_single == 0)]\n",
    "            \n",
    "            model1_hole_l1_output.append(np.mean(np.abs(model1_output_comp_single_hole - gt_single_hole)))\n",
    "            model1_hole_mse_output.append(mean_squared_error(model1_output_comp_single_hole, gt_single_hole))\n",
    "            model2_hole_l1_output.append(np.mean(np.abs(model2_output_comp_single_hole - gt_single_hole)))\n",
    "            model2_hole_mse_output.append(mean_squared_error(model2_output_comp_single_hole, gt_single_hole))\n",
    "\n",
    "    return {'model1': {'hole_l1_output':model1_hole_l1_output,\n",
    "                       'hole_mse_output':model1_hole_mse_output,\n",
    "                       'ssim_output_5':model1_ssim_output_5,\n",
    "                       'ssim_output_7':model1_ssim_output_7,\n",
    "                       'ssim_output_9':model1_ssim_output_9,\n",
    "                       'psnr_output':model1_psnr_output},\n",
    "           'model2': {'hole_l1_output':model2_hole_l1_output,\n",
    "                      'hole_mse_output':model2_hole_mse_output,\n",
    "                      'ssim_output_5':model2_ssim_output_5,\n",
    "                      'ssim_output_7':model2_ssim_output_7,\n",
    "                      'ssim_output_9':model2_ssim_output_9,\n",
    "                      'psnr_output':model2_psnr_output}}"
   ]
  },
  {
   "cell_type": "code",
   "execution_count": 42,
   "id": "bec37e9a",
   "metadata": {},
   "outputs": [],
   "source": [
    "all_results = quantitative_eval(model_3d, model_relative, dataset_test, parameters)"
   ]
  },
  {
   "cell_type": "code",
   "execution_count": 63,
   "id": "fc590ff7",
   "metadata": {},
   "outputs": [],
   "source": [
    "from scipy.stats import ttest_ind\n",
    "from scipy.stats import t\n",
    "import scipy.stats as stats"
   ]
  },
  {
   "cell_type": "code",
   "execution_count": 69,
   "id": "9b646865",
   "metadata": {},
   "outputs": [
    {
     "name": "stdout",
     "output_type": "stream",
     "text": [
      "WilcoxonResult(statistic=3512792.0, pvalue=4.784423046977545e-05)\n",
      "WilcoxonResult(statistic=3376710.0, pvalue=0.041558906106230434)\n",
      "WilcoxonResult(statistic=2286642.0, pvalue=2.043839231334878e-55)\n",
      "WilcoxonResult(statistic=2484395.0, pvalue=4.4673583748251284e-36)\n",
      "WilcoxonResult(statistic=2526643.0, pvalue=1.681919051274172e-32)\n",
      "WilcoxonResult(statistic=3121883.0, pvalue=0.009965028809850694)\n"
     ]
    }
   ],
   "source": [
    "print(stats.wilcoxon(all_results['model1']['hole_l1_output'], all_results['model2']['hole_l1_output'], alternative='greater'))\n",
    "print(stats.wilcoxon(all_results['model1']['hole_mse_output'], all_results['model2']['hole_mse_output'], alternative='greater'))\n",
    "print(stats.wilcoxon(all_results['model1']['ssim_output_5'], all_results['model2']['ssim_output_5'], alternative='less'))\n",
    "print(stats.wilcoxon(all_results['model1']['ssim_output_7'], all_results['model2']['ssim_output_7'], alternative='less'))\n",
    "print(stats.wilcoxon(all_results['model1']['ssim_output_9'], all_results['model2']['ssim_output_9'], alternative='less'))\n",
    "print(stats.wilcoxon(all_results['model1']['psnr_output'], all_results['model2']['psnr_output'], alternative='less'))"
   ]
  }
 ],
 "metadata": {
  "kernelspec": {
   "display_name": "Python 3",
   "language": "python",
   "name": "python3"
  },
  "language_info": {
   "codemirror_mode": {
    "name": "ipython",
    "version": 3
   },
   "file_extension": ".py",
   "mimetype": "text/x-python",
   "name": "python",
   "nbconvert_exporter": "python",
   "pygments_lexer": "ipython3",
   "version": "3.8.8"
  }
 },
 "nbformat": 4,
 "nbformat_minor": 5
}
