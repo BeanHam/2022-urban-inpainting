{
 "cells": [
  {
   "cell_type": "code",
   "execution_count": 1,
   "id": "d34cb2de",
   "metadata": {},
   "outputs": [],
   "source": [
    "import numpy as np\n",
    "import torch\n",
    "import torch.nn as nn\n",
    "import matplotlib.pyplot as plt\n",
    "from torchvision import transforms\n",
    "from net import *\n",
    "from utils import *\n",
    "from loss import *"
   ]
  },
  {
   "cell_type": "code",
   "execution_count": 2,
   "id": "ef19ae2d",
   "metadata": {},
   "outputs": [],
   "source": [
    "img_root = \"D:/nyc_taxi/data_min_max\"\n",
    "test_imgs = np.load(img_root+'/test.npy')\n",
    "val_imgs = np.load(img_root+'/val.npy')"
   ]
  },
  {
   "cell_type": "markdown",
   "id": "d67a56f7",
   "metadata": {},
   "source": [
    "### Modeling"
   ]
  },
  {
   "cell_type": "code",
   "execution_count": 3,
   "id": "a044d3c8",
   "metadata": {},
   "outputs": [],
   "source": [
    "## parameters\n",
    "img_root = \"D:/nyc_taxi/data_min_max\"\n",
    "mask_root = \"D:/nyc_taxi/data_min_max\"\n",
    "image_size = 64\n",
    "chunk_size = 5\n",
    "mape_loss = 0\n",
    "test_imgs = np.load(img_root+'/test.npy')\n",
    "test_masks_random = np.load(mask_root+'/test_random_mask.npy')\n",
    "dataset_test = taxi_data(test_imgs, test_masks_random, image_size, chunk_size)\n",
    "device = torch.device(\"cuda\") if torch.cuda.is_available() else torch.device(\"cpu\")\n",
    "\n",
    "## load models\n",
    "model = PConvUNet(chunk_size=chunk_size)\n",
    "model.load_state_dict(torch.load(f'../../model_states/chunk_size_{chunk_size}/biased_{mape_loss}'))\n",
    "model.eval()"
   ]
  },
  {
   "cell_type": "markdown",
   "id": "f66ca163",
   "metadata": {},
   "source": [
    "### Combination"
   ]
  },
  {
   "cell_type": "code",
   "execution_count": 31,
   "id": "162c1cd5",
   "metadata": {},
   "outputs": [],
   "source": [
    "## param\n",
    "color = 'Blues'\n",
    "all_time_max = 1428\n",
    "num = 2\n",
    "times = ['2PM', '2AM']\n",
    "## get test images\n",
    "indices = [3518, 3530]\n",
    "_, gt = zip(*[dataset_test[i] for i in indices])\n",
    "mask, _ = zip(*[dataset_test[i] for i in indices])\n",
    "mask = torch.stack(mask)\n",
    "mask[0,:,:,:,:] = torch.zeros_like(mask[0,:,:,:,:])\n",
    "mask[1,:,:,:,:] = torch.zeros_like(mask[1,:,:,:,:])\n",
    "mask[0,:,:,0:15, 0:50] = 1\n",
    "mask[1,:,:,15:50, 0:15] = 1\n",
    "gt = torch.stack(gt)\n",
    "image = mask*gt\n",
    "\n",
    "gt = torch.sum(image, dim=0, keepdim=True)\n",
    "mask = torch.zeros_like(mask[0].unsqueeze_(0))\n",
    "mask[:,:,:,0:15, 0:50] = 1\n",
    "mask[:,:,:,15:50, 0:15] = 1\n",
    "image = mask*gt"
   ]
  },
  {
   "cell_type": "code",
   "execution_count": 32,
   "id": "a4976918",
   "metadata": {
    "scrolled": false
   },
   "outputs": [
    {
     "data": {
      "image/png": "[encoded data removed]",
      "text/plain": [
       "<Figure size 1152x1152 with 4 Axes>"
      ]
     },
     "metadata": {
      "needs_background": "light"
     },
     "output_type": "display_data"
    }
   ],
   "source": [
    "with torch.no_grad():\n",
    "    output, _ = model(gt, mask)\n",
    "output_comp = mask * gt + (1 - mask) * output\n",
    "\n",
    "## scale back + log transformation\n",
    "gt = torch.log(gt*all_time_max+1) \n",
    "image = torch.log(image*all_time_max+1)\n",
    "output_comp = torch.log(output_comp*all_time_max+1)\n",
    "\n",
    "## the last layer\n",
    "gt = gt[:,:,-1,:,:]\n",
    "mask = mask[:,:,-1,:,:]\n",
    "image = image[:,:,-1,:,:]\n",
    "output_comp = output_comp[:,:,-1,:,:]\n",
    "\n",
    "## visualizations\n",
    "VMAX=7\n",
    "fig_size = 16\n",
    "fig, (ax1,ax2,ax3,ax4) = plt.subplots(1,4, figsize=(fig_size,fig_size))\n",
    "fontsize = 18\n",
    "ax1.imshow(gt[0][0],vmin=0, vmax=VMAX,cmap='Blues')\n",
    "ax1.set_title(f'Ground Truth, Time: {times[i]}', size=fontsize)\n",
    "ax1.axis('off')\n",
    "ax2.imshow(mask[0][0],cmap='gray', vmin=-1.5)\n",
    "ax2.set_title('Mask', size=fontsize)\n",
    "ax2.axis('off')\n",
    "ax3.imshow(image[0][0],vmin=0, vmax=VMAX,cmap='Blues')\n",
    "ax3.set_title('Masked Ground Truth', size=fontsize)\n",
    "ax3.axis('off')\n",
    "ax4.imshow(output_comp[0][0],vmin=0, vmax=VMAX,cmap='Blues')\n",
    "ax4.set_title(f'Prediction, Time: {times[i]}', size=fontsize)\n",
    "ax4.axis('off')\n",
    "plt.subplots_adjust(left=0.1,\n",
    "                    bottom=0.1, \n",
    "                    right=0.9, \n",
    "                    top=0.9, \n",
    "                    wspace=0.06, \n",
    "                    hspace=-0.63)"
   ]
  }
 ],
 "metadata": {
  "kernelspec": {
   "display_name": "Python 3 (ipykernel)",
   "language": "python",
   "name": "python3"
  },
  "language_info": {
   "codemirror_mode": {
    "name": "ipython",
    "version": 3
   },
   "file_extension": ".py",
   "mimetype": "text/x-python",
   "name": "python",
   "nbconvert_exporter": "python",
   "pygments_lexer": "ipython3",
   "version": "3.8.8"
  }
 },
 "nbformat": 4,
 "nbformat_minor": 5
}
