{
 "cells": [
  {
   "cell_type": "code",
   "execution_count": 1,
   "id": "041e5f34",
   "metadata": {},
   "outputs": [],
   "source": [
    "import numpy as np\n",
    "import torch\n",
    "import torch.nn as nn\n",
    "import matplotlib.pyplot as plt\n",
    "import geopandas as gpd\n",
    "import itertools\n",
    "\n",
    "from scipy.interpolate import griddata\n",
    "from pykrige.ok import OrdinaryKriging\n",
    "from pykrige.ok3d import OrdinaryKriging3D\n",
    "from shapely.geometry import Polygon\n",
    "from itertools import product\n",
    "from torchvision import transforms\n",
    "from skimage.metrics import structural_similarity, peak_signal_noise_ratio, mean_squared_error\n",
    "from net import *\n",
    "from utils import *\n",
    "from loss import *\n",
    "\n",
    "import warnings\n",
    "warnings.filterwarnings(\"ignore\")"
   ]
  },
  {
   "cell_type": "code",
   "execution_count": 2,
   "id": "669c8184",
   "metadata": {},
   "outputs": [],
   "source": [
    "img_root = \"D:/nyc_taxi/data_min_max\"\n",
    "mask_root = \"D:/nyc_taxi/data_min_max\"\n",
    "image_size = 64\n",
    "all_time_max = 1428\n",
    "chunk_size = 1\n",
    "train_imgs = np.load(img_root+'/train.npy')\n",
    "test_imgs = np.load(img_root+'/test.npy')\n",
    "train_masks = np.load(mask_root+f'/train_random_mask.npy')\n",
    "test_masks = np.load(mask_root+'/test_random_mask.npy')\n",
    "dataset_train = taxi_data(train_imgs, train_masks, image_size, chunk_size)\n",
    "dataset_test = taxi_data(test_imgs, test_masks, image_size, chunk_size)"
   ]
  },
  {
   "cell_type": "code",
   "execution_count": 4,
   "id": "d4e217a0",
   "metadata": {},
   "outputs": [
    {
     "name": "stderr",
     "output_type": "stream",
     "text": [
      "100%|█████████████████████████████████████████████████████████████████████████████| 3624/3624 [00:07<00:00, 455.84it/s]\n"
     ]
    }
   ],
   "source": [
    "## metrics\n",
    "hole_l1_output = []\n",
    "hole_mse_output = []\n",
    "ssim_output_5 = []\n",
    "psnr_output = []\n",
    "\n",
    "## iterate through\n",
    "for i in tqdm(range(len(dataset_test))):\n",
    "    mask, gt = zip(*[dataset_test[i]])\n",
    "    mask_single = torch.stack(mask).squeeze(0).squeeze(0).squeeze(0).numpy()\n",
    "    gt_single = torch.stack(gt).squeeze(0).squeeze(0).squeeze(0).numpy()\n",
    "    output_comp_single = gt_single.copy()\n",
    "    \n",
    "    ## valid regions\n",
    "    train_x, train_y = np.where(mask_single==1)\n",
    "    test_x, test_y = np.where(mask_single==0)\n",
    "    v = gt_single[np.where(mask_single==1)]\n",
    "\n",
    "    ## nearest neighbor\n",
    "    nn = griddata(np.c_[train_y, train_x], v, np.c_[test_y, test_x], method='nearest')\n",
    "    nn[nn<0] = 0\n",
    "    \n",
    "    ## comp\n",
    "    output_comp_single[mask_single == 0] = nn\n",
    "    \n",
    "    ## scale back\n",
    "    gt_single = gt_single*all_time_max\n",
    "    output_comp_single = output_comp_single*all_time_max\n",
    "    \n",
    "    ## single image & output\n",
    "    ssim_output_5.append(structural_similarity(output_comp_single, gt_single, win_size=5, data_range=all_time_max))\n",
    "    psnr_output.append(peak_signal_noise_ratio(output_comp_single, gt_single, data_range=all_time_max))\n",
    "    \n",
    "    ## hole regions\n",
    "    output_comp_single_hole = output_comp_single[np.where(mask_single == 0)]\n",
    "    gt_single_hole = gt_single[np.where(mask_single == 0)]\n",
    "    hole_l1_output.append(np.mean(np.abs(output_comp_single_hole - gt_single_hole)))\n",
    "    hole_mse_output.append(mean_squared_error(output_comp_single_hole, gt_single_hole))"
   ]
  },
  {
   "cell_type": "code",
   "execution_count": 5,
   "id": "16c333f9",
   "metadata": {},
   "outputs": [],
   "source": [
    "## biase test set evaluation\n",
    "nn_impute = []\n",
    "psnr = np.array(psnr_output)\n",
    "nn_impute.append([\n",
    "    np.mean(hole_l1_output),\n",
    "    np.mean(hole_mse_output),\n",
    "    np.mean(ssim_output_5),\n",
    "    np.mean(psnr[~np.isinf(psnr)])\n",
    "])\n",
    "## make tabular view\n",
    "nn_impute = pd.DataFrame(nn_impute, columns=['hole_l1_output', 'hole_mse_output', 'ssim_5', 'psnr'])"
   ]
  },
  {
   "cell_type": "code",
   "execution_count": 6,
   "id": "34de5cbd",
   "metadata": {},
   "outputs": [
    {
     "data": {
      "text/html": [
       "<div>\n",
       "<style scoped>\n",
       "    .dataframe tbody tr th:only-of-type {\n",
       "        vertical-align: middle;\n",
       "    }\n",
       "\n",
       "    .dataframe tbody tr th {\n",
       "        vertical-align: top;\n",
       "    }\n",
       "\n",
       "    .dataframe thead th {\n",
       "        text-align: right;\n",
       "    }\n",
       "</style>\n",
       "<table border=\"1\" class=\"dataframe\">\n",
       "  <thead>\n",
       "    <tr style=\"text-align: right;\">\n",
       "      <th></th>\n",
       "      <th>hole_l1_output</th>\n",
       "      <th>hole_mse_output</th>\n",
       "      <th>ssim_5</th>\n",
       "      <th>psnr</th>\n",
       "    </tr>\n",
       "  </thead>\n",
       "  <tbody>\n",
       "    <tr>\n",
       "      <th>0</th>\n",
       "      <td>3.117906</td>\n",
       "      <td>318.657494</td>\n",
       "      <td>0.988436</td>\n",
       "      <td>54.071709</td>\n",
       "    </tr>\n",
       "  </tbody>\n",
       "</table>\n",
       "</div>"
      ],
      "text/plain": [
       "   hole_l1_output  hole_mse_output    ssim_5       psnr\n",
       "0        3.117906       318.657494  0.988436  54.071709"
      ]
     },
     "execution_count": 6,
     "metadata": {},
     "output_type": "execute_result"
    }
   ],
   "source": [
    "nn_impute"
   ]
  }
 ],
 "metadata": {
  "kernelspec": {
   "display_name": "Python 3",
   "language": "python",
   "name": "python3"
  },
  "language_info": {
   "codemirror_mode": {
    "name": "ipython",
    "version": 3
   },
   "file_extension": ".py",
   "mimetype": "text/x-python",
   "name": "python",
   "nbconvert_exporter": "python",
   "pygments_lexer": "ipython3",
   "version": "3.8.8"
  }
 },
 "nbformat": 4,
 "nbformat_minor": 5
}
