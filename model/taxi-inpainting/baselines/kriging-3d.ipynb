{
 "cells": [
  {
   "cell_type": "code",
   "execution_count": 1,
   "id": "041e5f34",
   "metadata": {},
   "outputs": [],
   "source": [
    "import numpy as np\n",
    "import torch\n",
    "import torch.nn as nn\n",
    "import matplotlib.pyplot as plt\n",
    "import geopandas as gpd\n",
    "import itertools\n",
    "\n",
    "from scipy.interpolate import griddata, interpn\n",
    "from pykrige.ok import OrdinaryKriging\n",
    "from pykrige.ok3d import OrdinaryKriging3D\n",
    "from pykrige.uk3d import UniversalKriging3D\n",
    "from shapely.geometry import Polygon\n",
    "from itertools import product\n",
    "from torchvision import transforms\n",
    "from skimage.metrics import structural_similarity, peak_signal_noise_ratio, mean_squared_error\n",
    "from net import *\n",
    "from utils import *\n",
    "from loss import *\n",
    "\n",
    "import warnings\n",
    "warnings.filterwarnings(\"ignore\")"
   ]
  },
  {
   "cell_type": "code",
   "execution_count": 2,
   "id": "669c8184",
   "metadata": {},
   "outputs": [],
   "source": [
    "img_root = \"D:/nyc_taxi/data_min_max\"\n",
    "mask_root = \"D:/nyc_taxi/data_min_max\"\n",
    "image_size = 64\n",
    "all_time_max = 1428\n",
    "chunk_size = 2\n",
    "train_imgs = np.load(img_root+'/train.npy')\n",
    "test_imgs = np.load(img_root+'/test.npy')\n",
    "train_masks = np.load(mask_root+f'/train_random_mask.npy')\n",
    "test_masks = np.load(mask_root+'/test_random_mask.npy')\n",
    "dataset_train = taxi_data(train_imgs, train_masks, image_size, chunk_size)\n",
    "dataset_test = taxi_data(test_imgs, test_masks, image_size, chunk_size)"
   ]
  },
  {
   "cell_type": "code",
   "execution_count": 3,
   "id": "746f8c26",
   "metadata": {},
   "outputs": [
    {
     "name": "stderr",
     "output_type": "stream",
     "text": [
      "  0%|                                                                                         | 0/3623 [00:00<?, ?it/s]\n"
     ]
    }
   ],
   "source": [
    "## iterate through\n",
    "for i in tqdm(range(chunk_size-1, len(dataset_test))):\n",
    "    mask, gt = zip(*[dataset_test[i]])\n",
    "    mask = torch.stack(mask).squeeze(0).squeeze(0).squeeze(0).numpy()\n",
    "    gt = torch.stack(gt).squeeze(0).squeeze(0).squeeze(0).numpy()\n",
    "    output_comp = gt.copy()\n",
    "    \n",
    "    ## valid regions\n",
    "    train_z, train_x, train_y = np.where(mask==1)\n",
    "    test_z, test_x, test_y = np.where(mask==0)\n",
    "    v = gt[np.where(mask==1)]\n",
    "    break"
   ]
  },
  {
   "cell_type": "code",
   "execution_count": null,
   "id": "bd32ce3f",
   "metadata": {},
   "outputs": [],
   "source": [
    "import gstools as gs\n",
    "t0=time.time()\n",
    "krige = gs.krige.Ordinary(\n",
    "    model=gs.Spherical(dim=3),\n",
    "    cond_pos=np.c_[train_x, train_y, train_z],\n",
    "    cond_val=v,\n",
    "    fit_variogram=True,\n",
    ")\n",
    "field = krige(pos=np.c_[test_x, test_y, test_z])\n",
    "t1=time.time()\n",
    "print(t1-t0)"
   ]
  },
  {
   "cell_type": "code",
   "execution_count": null,
   "id": "decd8193",
   "metadata": {},
   "outputs": [],
   "source": [
    "## metrics\n",
    "hole_l1_output = []\n",
    "hole_mse_output = []\n",
    "ssim_output_5 = []\n",
    "psnr_output = []\n",
    "\n",
    "## iterate through\n",
    "for i in tqdm(range(chunk_size-1, len(dataset_test))):\n",
    "    mask, gt = zip(*[dataset_test[i]])\n",
    "    mask = torch.stack(mask).squeeze(0).squeeze(0).squeeze(0).numpy()\n",
    "    gt = torch.stack(gt).squeeze(0).squeeze(0).squeeze(0).numpy()\n",
    "    output_comp = gt.copy()\n",
    "    \n",
    "    ## valid regions\n",
    "    train_z, train_x, train_y = np.where(mask==1)\n",
    "    test_z, test_x, test_y = np.where(mask==0)\n",
    "    v = gt[np.where(mask==1)]\n",
    "    \n",
    "    ## cubic interpolation\n",
    "    cubic = griddata(np.c_[train_x,train_y,train_z], v, np.c_[test_x,test_y,test_z], method='cubic')\n",
    "    \n",
    "    ## fill in missing values\n",
    "    output_comp[mask == 0] = linear\n",
    "    \n",
    "    ## scale back\n",
    "    gt = gt*all_time_max\n",
    "    output_comp = output_comp*all_time_max\n",
    "    \n",
    "    ## single image & output\n",
    "    ssim_output_5.append(structural_similarity(output_comp, gt, win_size=5, data_range=all_time_max))\n",
    "    psnr_output.append(peak_signal_noise_ratio(output_comp, gt, data_range=all_time_max))\n",
    "    \n",
    "    ## hole regions\n",
    "    output_comp_hole = output_comp[np.where(mask == 0)]\n",
    "    gt_hole = gt[np.where(mask == 0)]\n",
    "    hole_l1_output.append(np.mean(np.abs(output_comp_hole - gt_hole)))\n",
    "    hole_mse_output.append(mean_squared_error(output_comp_hole, gt_hole))"
   ]
  },
  {
   "cell_type": "code",
   "execution_count": 4,
   "id": "16c333f9",
   "metadata": {},
   "outputs": [],
   "source": [
    "## biase test set evaluation\n",
    "linear_impute = []\n",
    "psnr = np.array(psnr_output)\n",
    "linear_impute.append([\n",
    "    np.mean(np.array(hole_l1_output)[~np.isnan(hole_l1_output)]),\n",
    "    np.mean(np.array(hole_mse_output)[~np.isnan(hole_mse_output)]),\n",
    "    np.mean(np.array(ssim_output_5)[~np.isnan(ssim_output_5)]),\n",
    "    np.mean(psnr[~np.isinf(psnr)])\n",
    "])\n",
    "## make tabular view\n",
    "linear_impute = pd.DataFrame(linear_impute, columns=['hole_l1_output', 'hole_mse_output', 'ssim_5', 'psnr'])"
   ]
  },
  {
   "cell_type": "code",
   "execution_count": 5,
   "id": "34de5cbd",
   "metadata": {},
   "outputs": [
    {
     "data": {
      "text/html": [
       "<div>\n",
       "<style scoped>\n",
       "    .dataframe tbody tr th:only-of-type {\n",
       "        vertical-align: middle;\n",
       "    }\n",
       "\n",
       "    .dataframe tbody tr th {\n",
       "        vertical-align: top;\n",
       "    }\n",
       "\n",
       "    .dataframe thead th {\n",
       "        text-align: right;\n",
       "    }\n",
       "</style>\n",
       "<table border=\"1\" class=\"dataframe\">\n",
       "  <thead>\n",
       "    <tr style=\"text-align: right;\">\n",
       "      <th></th>\n",
       "      <th>hole_l1_output</th>\n",
       "      <th>hole_mse_output</th>\n",
       "      <th>ssim_5</th>\n",
       "      <th>psnr</th>\n",
       "    </tr>\n",
       "  </thead>\n",
       "  <tbody>\n",
       "    <tr>\n",
       "      <th>0</th>\n",
       "      <td>0.0</td>\n",
       "      <td>0.0</td>\n",
       "      <td>1.0</td>\n",
       "      <td>NaN</td>\n",
       "    </tr>\n",
       "  </tbody>\n",
       "</table>\n",
       "</div>"
      ],
      "text/plain": [
       "   hole_l1_output  hole_mse_output  ssim_5  psnr\n",
       "0             0.0              0.0     1.0   NaN"
      ]
     },
     "execution_count": 5,
     "metadata": {},
     "output_type": "execute_result"
    }
   ],
   "source": [
    "linear_impute"
   ]
  },
  {
   "cell_type": "code",
   "execution_count": null,
   "id": "4e773c4d",
   "metadata": {},
   "outputs": [],
   "source": [
    "universal_model = UniversalKriging3D(x, y, z, v, variogram_model=\"linear\", drift_terms=[\"regional_linear\"])"
   ]
  },
  {
   "cell_type": "markdown",
   "id": "d1442bb7",
   "metadata": {},
   "source": [
    "### Kriging"
   ]
  },
  {
   "cell_type": "code",
   "execution_count": null,
   "id": "110334ca",
   "metadata": {},
   "outputs": [],
   "source": [
    "ordinal_model = OrdinaryKriging3D(x, y, z, v, variogram_model=\"linear\")"
   ]
  }
 ],
 "metadata": {
  "kernelspec": {
   "display_name": "Python 3",
   "language": "python",
   "name": "python3"
  },
  "language_info": {
   "codemirror_mode": {
    "name": "ipython",
    "version": 3
   },
   "file_extension": ".py",
   "mimetype": "text/x-python",
   "name": "python",
   "nbconvert_exporter": "python",
   "pygments_lexer": "ipython3",
   "version": "3.8.8"
  }
 },
 "nbformat": 4,
 "nbformat_minor": 5
}
