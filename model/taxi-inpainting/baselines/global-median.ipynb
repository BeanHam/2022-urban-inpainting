{
 "cells": [
  {
   "cell_type": "code",
   "execution_count": 1,
   "id": "15950dc7",
   "metadata": {},
   "outputs": [],
   "source": [
    "import numpy as np\n",
    "import torch\n",
    "import torch.nn as nn\n",
    "import matplotlib.pyplot as plt\n",
    "from tqdm import tqdm\n",
    "from torchvision import transforms\n",
    "from skimage.metrics import structural_similarity, peak_signal_noise_ratio, mean_squared_error\n",
    "from net import *\n",
    "from utils import *\n",
    "from loss import *"
   ]
  },
  {
   "cell_type": "code",
   "execution_count": 2,
   "id": "a872c035",
   "metadata": {},
   "outputs": [],
   "source": [
    "img_root = \"D:/nyc_taxi/data_min_max\"\n",
    "mask_root = \"D:/nyc_taxi/data_min_max\"\n",
    "image_size = 64\n",
    "all_time_max = 1428\n",
    "train_imgs = np.load(img_root+'/train.npy')\n",
    "test_imgs = np.load(img_root+'/test.npy')\n",
    "train_masks = np.load(mask_root+f'/train_random_mask.npy')\n",
    "test_masks = np.load(mask_root+'/test_random_mask.npy')\n",
    "dataset_train = taxi_data(train_imgs, train_masks, image_size, 1)\n",
    "dataset_test = taxi_data(test_imgs, test_masks, image_size, 1)"
   ]
  },
  {
   "cell_type": "code",
   "execution_count": 3,
   "id": "011fca52",
   "metadata": {},
   "outputs": [],
   "source": [
    "## global mean\n",
    "_, gt = zip(*[dataset_train[i] for i in range(len(dataset_train))])\n",
    "gt = torch.stack(gt).squeeze(1).squeeze(1).numpy()\n",
    "global_mean = []\n",
    "for i in range(24):\n",
    "    hour_data = gt[i::24, :]\n",
    "    global_mean.append(np.median(hour_data, axis=0))\n",
    "global_mean = np.stack(global_mean)"
   ]
  },
  {
   "cell_type": "code",
   "execution_count": 4,
   "id": "5191652b",
   "metadata": {
    "scrolled": true
   },
   "outputs": [
    {
     "name": "stderr",
     "output_type": "stream",
     "text": [
      " 25%|███████████████████▊                                                           | 910/3624 [01:26<04:10, 10.82it/s]C:\\Users\\binha\\anaconda3\\lib\\site-packages\\skimage\\metrics\\simple_metrics.py:160: RuntimeWarning: divide by zero encountered in double_scalars\n",
      "  return 10 * np.log10((data_range ** 2) / err)\n",
      "100%|██████████████████████████████████████████████████████████████████████████████| 3624/3624 [05:41<00:00, 10.62it/s]\n"
     ]
    }
   ],
   "source": [
    "## metrics\n",
    "hole_l1_output = []\n",
    "hole_mse_output = []\n",
    "ssim_output_5 = []\n",
    "psnr_output = []\n",
    "    \n",
    "for i in tqdm(range(len(dataset_test))):\n",
    "    mask, gt = zip(*[dataset_test[i]])\n",
    "    gt_single = torch.stack(gt).squeeze(0).squeeze(0).squeeze(0).numpy()\n",
    "    mask_single = torch.stack(mask).squeeze(0).squeeze(0).squeeze(0).numpy()\n",
    "    output_comp_single = gt_single.copy()\n",
    "    \n",
    "    ## use global mean to impute\n",
    "    output_comp_single[mask_single == 0] = global_mean[i%24][mask_single == 0]\n",
    "    \n",
    "    ## scale back\n",
    "    gt_single = gt_single*all_time_max\n",
    "    output_comp_single = output_comp_single*all_time_max\n",
    "    \n",
    "    ## single image & output\n",
    "    ssim_output_5.append(structural_similarity(output_comp_single, gt_single, win_size=5, data_range=all_time_max))\n",
    "    psnr_output.append(peak_signal_noise_ratio(output_comp_single, gt_single, data_range=all_time_max))\n",
    "    \n",
    "    ## hole regions\n",
    "    output_comp_single_hole = output_comp_single[np.where(mask_single == 0)]\n",
    "    gt_single_hole = gt_single[np.where(mask_single == 0)]\n",
    "    hole_l1_output.append(np.mean(np.abs(output_comp_single_hole - gt_single_hole)))\n",
    "    hole_mse_output.append(mean_squared_error(output_comp_single_hole, gt_single_hole))"
   ]
  },
  {
   "cell_type": "code",
   "execution_count": 5,
   "id": "204dba2a",
   "metadata": {},
   "outputs": [],
   "source": [
    "## biase test set evaluation\n",
    "global_median_impute = []\n",
    "psnr = np.array(psnr_output)\n",
    "global_median_impute.append([\n",
    "    np.mean(hole_l1_output),\n",
    "    np.mean(hole_mse_output),\n",
    "    np.mean(ssim_output_5),\n",
    "    np.mean(psnr[~np.isinf(psnr)])\n",
    "])\n",
    "## make tabular view\n",
    "global_median_impute = pd.DataFrame(global_median_impute, \n",
    "                                    columns=['hole_l1_output', 'hole_mse_output', 'ssim_5', 'psnr'])"
   ]
  },
  {
   "cell_type": "code",
   "execution_count": 7,
   "id": "aeb5f331",
   "metadata": {},
   "outputs": [
    {
     "data": {
      "text/html": [
       "<div>\n",
       "<style scoped>\n",
       "    .dataframe tbody tr th:only-of-type {\n",
       "        vertical-align: middle;\n",
       "    }\n",
       "\n",
       "    .dataframe tbody tr th {\n",
       "        vertical-align: top;\n",
       "    }\n",
       "\n",
       "    .dataframe thead th {\n",
       "        text-align: right;\n",
       "    }\n",
       "</style>\n",
       "<table border=\"1\" class=\"dataframe\">\n",
       "  <thead>\n",
       "    <tr style=\"text-align: right;\">\n",
       "      <th></th>\n",
       "      <th>hole_l1_output</th>\n",
       "      <th>hole_mse_output</th>\n",
       "      <th>ssim_5</th>\n",
       "      <th>psnr</th>\n",
       "    </tr>\n",
       "  </thead>\n",
       "  <tbody>\n",
       "    <tr>\n",
       "      <th>0</th>\n",
       "      <td>1.184803</td>\n",
       "      <td>58.190562</td>\n",
       "      <td>0.997593</td>\n",
       "      <td>61.975086</td>\n",
       "    </tr>\n",
       "  </tbody>\n",
       "</table>\n",
       "</div>"
      ],
      "text/plain": [
       "   hole_l1_output  hole_mse_output    ssim_5       psnr\n",
       "0        1.184803        58.190562  0.997593  61.975086"
      ]
     },
     "execution_count": 7,
     "metadata": {},
     "output_type": "execute_result"
    }
   ],
   "source": [
    "global_median_impute"
   ]
  }
 ],
 "metadata": {
  "kernelspec": {
   "display_name": "Python 3",
   "language": "python",
   "name": "python3"
  },
  "language_info": {
   "codemirror_mode": {
    "name": "ipython",
    "version": 3
   },
   "file_extension": ".py",
   "mimetype": "text/x-python",
   "name": "python",
   "nbconvert_exporter": "python",
   "pygments_lexer": "ipython3",
   "version": "3.8.8"
  }
 },
 "nbformat": 4,
 "nbformat_minor": 5
}
