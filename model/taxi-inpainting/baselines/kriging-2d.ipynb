{
 "cells": [
  {
   "cell_type": "code",
   "execution_count": 1,
   "id": "041e5f34",
   "metadata": {},
   "outputs": [],
   "source": [
    "import numpy as np\n",
    "import torch\n",
    "import torch.nn as nn\n",
    "import matplotlib.pyplot as plt\n",
    "import geopandas as gpd\n",
    "import itertools\n",
    "\n",
    "from scipy.interpolate import Rbf\n",
    "from pykrige.ok import OrdinaryKriging\n",
    "from pykrige.ok3d import OrdinaryKriging3D\n",
    "from shapely.geometry import Polygon\n",
    "from itertools import product\n",
    "from torchvision import transforms\n",
    "from skimage.metrics import structural_similarity, peak_signal_noise_ratio, mean_squared_error\n",
    "from net import *\n",
    "from utils import *\n",
    "from loss import *\n",
    "\n",
    "import warnings\n",
    "warnings.filterwarnings(\"ignore\")"
   ]
  },
  {
   "cell_type": "code",
   "execution_count": 2,
   "id": "669c8184",
   "metadata": {},
   "outputs": [],
   "source": [
    "img_root = \"D:/nyc_taxi/data_min_max\"\n",
    "mask_root = \"D:/nyc_taxi/data_min_max\"\n",
    "image_size = 64\n",
    "all_time_max = 1428\n",
    "chunk_size = 1\n",
    "train_imgs = np.load(img_root+'/train.npy')\n",
    "test_imgs = np.load(img_root+'/test.npy')\n",
    "train_masks = np.load(mask_root+f'/train_random_mask.npy')\n",
    "test_masks = np.load(mask_root+'/test_random_mask.npy')\n",
    "dataset_train = taxi_data(train_imgs, train_masks, image_size, chunk_size)\n",
    "dataset_test = taxi_data(test_imgs, test_masks, image_size, chunk_size)"
   ]
  },
  {
   "cell_type": "code",
   "execution_count": 3,
   "id": "e173f4e6",
   "metadata": {},
   "outputs": [
    {
     "name": "stderr",
     "output_type": "stream",
     "text": [
      "100%|████████████████████████████████████████████████████████████████████████████| 3624/3624 [2:27:18<00:00,  2.44s/it]\n"
     ]
    }
   ],
   "source": [
    "## metrics\n",
    "hole_l1_output = []\n",
    "hole_mse_output = []\n",
    "ssim_output_5 = []\n",
    "psnr_output = []\n",
    "    \n",
    "for i in tqdm(range(len(dataset_test))):\n",
    "    mask, gt = zip(*[dataset_test[i]])\n",
    "    mask_single = torch.stack(mask).squeeze(0).squeeze(0).squeeze(0).numpy()\n",
    "    gt_single = torch.stack(gt).squeeze(0).squeeze(0).squeeze(0).numpy()\n",
    "    output_comp = gt_single.copy()\n",
    "    \n",
    "    ## valid regions\n",
    "    train_x, train_y = np.where(mask_single==1)\n",
    "    test_x, test_y = np.where(mask_single==0)\n",
    "    v = gt_single[np.where(mask_single==1)]\n",
    "    \n",
    "    ## Krig\n",
    "    krig_model = OrdinaryKriging(train_y, train_x, v, variogram_model=\"spherical\")\n",
    "    krig_result, ss = krig_model.execute(\"grid\", np.arange(0,64,1)*1.0, np.arange(0,64,1)*1.0)\n",
    "    output_comp[mask==0] = krig_result.data[mask==0]\n",
    "    \n",
    "    ## reshape back + prediction\n",
    "    gt_single = gt_single.reshape(image_size, image_size)\n",
    "    mask_single = mask_single.reshape(image_size, image_size)\n",
    "    output_comp_single = gt_single.copy()\n",
    "    output_comp_single[mask_single == 0] = krig_result.data[mask_single == 0]\n",
    "\n",
    "    ## scale back\n",
    "    gt_single = gt_single*all_time_max\n",
    "    output_comp_single = output_comp_single*all_time_max\n",
    "    \n",
    "    ## single image & output\n",
    "    ssim_output_5.append(structural_similarity(output_comp_single, gt_single, win_size=5, data_range=all_time_max))\n",
    "    psnr_output.append(peak_signal_noise_ratio(output_comp_single, gt_single, data_range=all_time_max))\n",
    "    \n",
    "    ## hole regions\n",
    "    output_comp_single_hole = output_comp_single[np.where(mask_single == 0)]\n",
    "    gt_single_hole = gt_single[np.where(mask_single == 0)]\n",
    "    hole_l1_output.append(np.mean(np.abs(output_comp_single_hole - gt_single_hole)))\n",
    "    hole_mse_output.append(mean_squared_error(output_comp_single_hole, gt_single_hole))"
   ]
  },
  {
   "cell_type": "code",
   "execution_count": 4,
   "id": "6e9e6c0a",
   "metadata": {},
   "outputs": [],
   "source": [
    "krig_impute = []\n",
    "psnr = np.array(psnr_output)\n",
    "krig_impute.append([\n",
    "    np.mean(hole_l1_output),\n",
    "    np.mean(hole_mse_output),\n",
    "    np.mean(ssim_output_5),\n",
    "    np.mean(psnr[~np.isinf(psnr)])\n",
    "])\n",
    "## make tabular view\n",
    "krig_impute = pd.DataFrame(krig_impute, columns=['hole_l1_output', 'hole_mse_output', 'ssim_5', 'psnr'])"
   ]
  },
  {
   "cell_type": "code",
   "execution_count": 5,
   "id": "be7b10c9",
   "metadata": {},
   "outputs": [
    {
     "data": {
      "text/html": [
       "<div>\n",
       "<style scoped>\n",
       "    .dataframe tbody tr th:only-of-type {\n",
       "        vertical-align: middle;\n",
       "    }\n",
       "\n",
       "    .dataframe tbody tr th {\n",
       "        vertical-align: top;\n",
       "    }\n",
       "\n",
       "    .dataframe thead th {\n",
       "        text-align: right;\n",
       "    }\n",
       "</style>\n",
       "<table border=\"1\" class=\"dataframe\">\n",
       "  <thead>\n",
       "    <tr style=\"text-align: right;\">\n",
       "      <th></th>\n",
       "      <th>hole_l1_output</th>\n",
       "      <th>hole_mse_output</th>\n",
       "      <th>ssim_5</th>\n",
       "      <th>psnr</th>\n",
       "    </tr>\n",
       "  </thead>\n",
       "  <tbody>\n",
       "    <tr>\n",
       "      <th>0</th>\n",
       "      <td>3.332149</td>\n",
       "      <td>208.212906</td>\n",
       "      <td>0.988249</td>\n",
       "      <td>54.425439</td>\n",
       "    </tr>\n",
       "  </tbody>\n",
       "</table>\n",
       "</div>"
      ],
      "text/plain": [
       "   hole_l1_output  hole_mse_output    ssim_5       psnr\n",
       "0        3.332149       208.212906  0.988249  54.425439"
      ]
     },
     "execution_count": 5,
     "metadata": {},
     "output_type": "execute_result"
    }
   ],
   "source": [
    "krig_impute"
   ]
  },
  {
   "cell_type": "markdown",
   "id": "3de603e7",
   "metadata": {},
   "source": [
    "### Appendix"
   ]
  },
  {
   "cell_type": "code",
   "execution_count": 120,
   "id": "30aacac7",
   "metadata": {},
   "outputs": [],
   "source": [
    "lat_upper = 40.790512\n",
    "lat_bottom = 40.598927\n",
    "long_left = -74.015339\n",
    "long_right = -73.750875\n",
    "lat_segments = np.linspace(lat_upper, lat_bottom, image_size+1)\n",
    "long_segments = np.linspace(long_left, long_right, image_size+1)\n",
    "\n",
    "## X: training coords\n",
    "lat_center = lat_segments[:-1] + np.array([lat_segments[i]-lat_segments[i-1] for i in range(1, len(lat_segments))])*0.5\n",
    "long_center = long_segments[:-1] + np.array([long_segments[i]-long_segments[i-1] for i in range(1, len(long_segments))])*0.5\n",
    "coords = np.array(list(itertools.product(lat_center, long_center)))"
   ]
  },
  {
   "cell_type": "code",
   "execution_count": 121,
   "id": "b84eee3c",
   "metadata": {
    "scrolled": true
   },
   "outputs": [
    {
     "name": "stderr",
     "output_type": "stream",
     "text": [
      "  0%|                                                                                         | 0/3624 [00:02<?, ?it/s]\n"
     ]
    }
   ],
   "source": [
    "## metrics\n",
    "hole_l1_output = []\n",
    "hole_mse_output = []\n",
    "ssim_output_5 = []\n",
    "psnr_output = []\n",
    "    \n",
    "for i in tqdm(range(len(dataset_test))):\n",
    "    mask, gt = zip(*[dataset_test[i]])\n",
    "    gt_single = torch.stack(gt).squeeze(0).squeeze(0).squeeze(0).numpy().ravel()\n",
    "    mask_single = torch.stack(mask).squeeze(0).squeeze(0).squeeze(0).numpy().ravel()\n",
    "    \n",
    "    ## geodata\n",
    "    sub_coords = coords[mask_single == 1]\n",
    "    sub_gt = gt_single[mask_single == 1]\n",
    "    data = pd.DataFrame(np.c_[sub_coords, sub_gt], columns=['lat', 'long', 'taxi'])\n",
    "    gdata = gpd.GeoDataFrame(data, geometry=gpd.points_from_xy(data.long, data.lat))\n",
    "    gdata[\"Easting\"], gdata[\"Northing\"] = gdata.geometry.x, gdata.geometry.y\n",
    "    \n",
    "    ## Krig\n",
    "    #krig_model = OrdinaryKriging(x=gdata[\"Easting\"], \n",
    "    #                             y=gdata[\"Northing\"], \n",
    "    #                             z=gdata[\"taxi\"], \n",
    "    #                             variogram_model=\"spherical\")\n",
    "    #krig_result, ss = krig_model.execute(\"grid\", long_segments[:-1], lat_segments[:-1])\n",
    "    krig_model = OrdinaryKriging(x=sub_coords[:,1], y=sub_coords[:,0], z=sub_gt, variogram_model=\"spherical\")\n",
    "    krig_result, ss = krig_model.execute(\"grid\", long_segments[:-1], lat_segments[:-1])\n",
    "    \n",
    "    ## reshape back + prediction\n",
    "    gt_single = gt_single.reshape(image_size, image_size)\n",
    "    mask_single = mask_single.reshape(image_size, image_size)\n",
    "    output_comp_single = gt_single.copy()\n",
    "    output_comp_single[mask_single == 0] = krig_result.data[mask_single == 0]\n",
    "    break\n",
    "    \n",
    "    ## scale back\n",
    "    gt_single = gt_single*all_time_max\n",
    "    output_comp_single = output_comp_single*all_time_max\n",
    "    \n",
    "    ## single image & output\n",
    "    ssim_output_5.append(structural_similarity(output_comp_single, gt_single, win_size=5, data_range=all_time_max))\n",
    "    psnr_output.append(peak_signal_noise_ratio(output_comp_single, gt_single, data_range=all_time_max))\n",
    "    \n",
    "    ## hole regions\n",
    "    output_comp_single_hole = output_comp_single[np.where(mask_single == 0)]\n",
    "    gt_single_hole = gt_single[np.where(mask_single == 0)]\n",
    "    hole_l1_output.append(np.mean(np.abs(output_comp_single_hole - gt_single_hole)))\n",
    "    hole_mse_output.append(mean_squared_error(output_comp_single_hole, gt_single_hole))"
   ]
  },
  {
   "cell_type": "code",
   "execution_count": 6,
   "id": "34de5cbd",
   "metadata": {},
   "outputs": [
    {
     "data": {
      "text/html": [
       "<div>\n",
       "<style scoped>\n",
       "    .dataframe tbody tr th:only-of-type {\n",
       "        vertical-align: middle;\n",
       "    }\n",
       "\n",
       "    .dataframe tbody tr th {\n",
       "        vertical-align: top;\n",
       "    }\n",
       "\n",
       "    .dataframe thead th {\n",
       "        text-align: right;\n",
       "    }\n",
       "</style>\n",
       "<table border=\"1\" class=\"dataframe\">\n",
       "  <thead>\n",
       "    <tr style=\"text-align: right;\">\n",
       "      <th></th>\n",
       "      <th>hole_l1_output</th>\n",
       "      <th>hole_mse_output</th>\n",
       "      <th>ssim_5</th>\n",
       "      <th>psnr</th>\n",
       "    </tr>\n",
       "  </thead>\n",
       "  <tbody>\n",
       "    <tr>\n",
       "      <th>0</th>\n",
       "      <td>3.361765</td>\n",
       "      <td>213.181407</td>\n",
       "      <td>0.987761</td>\n",
       "      <td>54.336463</td>\n",
       "    </tr>\n",
       "  </tbody>\n",
       "</table>\n",
       "</div>"
      ],
      "text/plain": [
       "   hole_l1_output  hole_mse_output    ssim_5       psnr\n",
       "0        3.361765       213.181407  0.987761  54.336463"
      ]
     },
     "execution_count": 6,
     "metadata": {},
     "output_type": "execute_result"
    }
   ],
   "source": [
    "krig_impute"
   ]
  },
  {
   "cell_type": "code",
   "execution_count": 105,
   "id": "de08d576",
   "metadata": {},
   "outputs": [
    {
     "data": {
      "text/plain": [
       "(-0.0012917583, 0.17577031)"
      ]
     },
     "execution_count": 105,
     "metadata": {},
     "output_type": "execute_result"
    }
   ],
   "source": [
    "np.min(output_comp_single), np.max(output_comp_single)"
   ]
  }
 ],
 "metadata": {
  "kernelspec": {
   "display_name": "Python 3",
   "language": "python",
   "name": "python3"
  },
  "language_info": {
   "codemirror_mode": {
    "name": "ipython",
    "version": 3
   },
   "file_extension": ".py",
   "mimetype": "text/x-python",
   "name": "python",
   "nbconvert_exporter": "python",
   "pygments_lexer": "ipython3",
   "version": "3.8.8"
  }
 },
 "nbformat": 4,
 "nbformat_minor": 5
}
